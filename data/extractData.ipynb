{
 "cells": [
  {
   "cell_type": "code",
   "execution_count": 1,
   "metadata": {},
   "outputs": [],
   "source": [
    " #Imports\n",
    "import requests\n",
    "from bs4 import BeautifulSoup\n",
    "import re\n",
    "import csv\n",
    "import pandas as pd\n",
    "import copy\n",
    "import datetime"
   ]
  },
  {
   "cell_type": "code",
   "execution_count": 2,
   "metadata": {},
   "outputs": [],
   "source": [
    "#Import Data\n",
    "response = requests.get('https://ev-database.org/#sort:path~type~order=.rank~number~desc|range-slider-range:prev~next=0~1200|range-slider-acceleration:prev~next=2~23|range-slider-topspeed:prev~next=110~350|range-slider-battery:prev~next=10~200|range-slider-towweight:prev~next=0~2500|range-slider-fastcharge:prev~next=0~1500|paging:currentPage=0|paging:number=9')\n",
    "contents = response.text"
   ]
  },
  {
   "cell_type": "code",
   "execution_count": 9,
   "metadata": {},
   "outputs": [],
   "source": [
    "#Function for extracting cars with soup\n",
    "def extractCarsSoup(soup):\n",
    "    matches = soup.find_all(\"div\", {\"class\": \"list-item\"})\n",
    "    return(matches)"
   ]
  },
  {
   "cell_type": "code",
   "execution_count": 10,
   "metadata": {},
   "outputs": [],
   "source": [
    "soup = BeautifulSoup(contents, 'html.parser')\n",
    "matches = extractCarsSoup(soup)"
   ]
  },
  {
   "cell_type": "code",
   "execution_count": 143,
   "metadata": {},
   "outputs": [],
   "source": [
    "def extractCarData(soup):\n",
    "    soup_battery = soup.find(\"span\", {\"class\": \"battery\"}).text\n",
    "    soup_0To100 = soup.find(\"span\", {\"class\": \"acceleration\"}).text\n",
    "    soup_TopSpeed = soup.find(\"span\", {\"class\": \"topspeed\"}).text\n",
    "    soup_Range = soup.find(\"span\", {\"class\": \"erange_real\"}).text\n",
    "    soup_Efficiency = soup.find(\"span\", {\"class\": \"efficiency\"}).text\n",
    "    soup_Fastcharge = soup.find(\"span\", {\"class\": \"fastcharge_speed_print\"}).text\n",
    "    soup_Towing = soup.find(\"span\", {\"class\": \"towweight\"}).text\n",
    "    soup_Seats = soup.find_all(\"span\", {\"title\": \"Number of seats\"})[1].text\n",
    "    soup_Title = soup.find(\"a\", {\"class\": \"title\"}).find(\"span\").text + \" \" + soup.find(\"span\", {\"class\": \"model\"}).text\n",
    "    soup_Available = soup.find(\"span\", {\"class\": \"block\"}).text\n",
    "    soup_GermanPrice = soup.find(\"span\", {\"class\": \"country_de\"}).text\n",
    "    soup_NetherlandsPrice = soup.find(\"span\", {\"class\": \"country_nl\"}).text\n",
    "    soup_UnitedKingdomPrice = soup.find(\"span\", {\"class\": \"country_uk\"}).text\n",
    "    return([soup_Title, soup_Available, soup_GermanPrice, soup_NetherlandsPrice, soup_UnitedKingdomPrice, soup_battery, soup_0To100, soup_TopSpeed, soup_Range, soup_Efficiency, soup_Fastcharge, soup_Towing, soup_Seats])"
   ]
  },
  {
   "cell_type": "code",
   "execution_count": null,
   "metadata": {},
   "outputs": [],
   "source": [
    "df = pd.DataFrame(columns =  [\"Name\", \"Available Since\", \"German Price\", \"Netherlands Price\", \"UnitedKingdom Price\", \"Battery\", \"0-100\", \"Top Speed\", \"Range\", \"Efficiency\", \"Fast Charge\", \"Towing\", \"Seats\"])"
   ]
  },
  {
   "cell_type": "code",
   "execution_count": 156,
   "metadata": {},
   "outputs": [],
   "source": [
    "for i in range(0, len(matches)):\n",
    "    Data = extractCarData(matches[i])\n",
    "    df.loc[-1] = Data\n",
    "    df.index = df.index + 1"
   ]
  },
  {
   "cell_type": "code",
   "execution_count": 158,
   "metadata": {},
   "outputs": [],
   "source": [
    "df.to_csv('data.csv')"
   ]
  }
 ],
 "metadata": {
  "kernelspec": {
   "display_name": "flask",
   "language": "python",
   "name": "python3"
  },
  "language_info": {
   "codemirror_mode": {
    "name": "ipython",
    "version": 3
   },
   "file_extension": ".py",
   "mimetype": "text/x-python",
   "name": "python",
   "nbconvert_exporter": "python",
   "pygments_lexer": "ipython3",
   "version": "3.11.3"
  },
  "orig_nbformat": 4
 },
 "nbformat": 4,
 "nbformat_minor": 2
}
